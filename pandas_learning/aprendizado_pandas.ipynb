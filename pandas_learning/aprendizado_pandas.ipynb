{
  "cells": [
    {
      "cell_type": "code",
      "execution_count": null,
      "metadata": {
        "id": "zjHyoe34x5Jf"
      },
      "outputs": [],
      "source": [
        "#importar a bibloteca do pandas\n",
        "import pandas as pd\n",
        "\n",
        "\n",
        "#trabalhar com um arquivo CSV | XLSX = EXCEL | SQL\n",
        "\n",
        "tabela = pd.read_csv('caminho do arquivo')\n",
        "tabela = pd.read_csv('No colab')\n",
        "tabela = pd.read_csv('No link')\n",
        "tabela = pd.read_csv('No drive')"
      ]
    },
    {
      "cell_type": "code",
      "execution_count": null,
      "metadata": {
        "id": "zt04jQuv072O"
      },
      "outputs": [],
      "source": [
        "import pandas as pd\n",
        "\n",
        "s1 = pd.Series(['Guerra nas Estrelas', 'O Império Contra-Ataca', 'O Retorno de Jedi'])\n",
        "s2 = pd.Series(data=['Guerra nas Estrelas', 'O Império Contra-Ataca', 'O Retorno de Jedi'])\n",
        "\n",
        "display(s1)\n",
        "\n",
        "display(s2)"
      ]
    },
    {
      "cell_type": "code",
      "execution_count": null,
      "metadata": {
        "colab": {
          "base_uri": "https://localhost:8080/"
        },
        "id": "ii04wsrt2Sa7",
        "outputId": "0fc05af9-dc59-4673-d5dc-b3e31a047924"
      },
      "outputs": [
        {
          "data": {
            "text/plain": [
              "1977       Guerra nas Estrelas\n",
              "1980    O Império Contra-Ataca\n",
              "1983         O Retorno de Jedi\n",
              "dtype: object"
            ]
          },
          "execution_count": 14,
          "metadata": {},
          "output_type": "execute_result"
        }
      ],
      "source": [
        "filmes = ['Guerra nas Estrelas', 'O Império Contra-Ataca', 'O Retorno de Jedi']\n",
        "anos = [1977, 1980, 1983]\n",
        "\n",
        "pd.Series(data=filmes, index=anos)"
      ]
    },
    {
      "cell_type": "code",
      "execution_count": null,
      "metadata": {
        "colab": {
          "base_uri": "https://localhost:8080/"
        },
        "id": "iDNl4TQ03TV3",
        "outputId": "aeeb79e9-56de-4270-c7cb-0051172b00e5"
      },
      "outputs": [
        {
          "data": {
            "text/plain": [
              "Episódio 4       Guerra nas Estrelas\n",
              "Episódio 5    O Império Contra-Ataca\n",
              "Episódio 6         O Retorno de Jedi\n",
              "dtype: object"
            ]
          },
          "execution_count": 15,
          "metadata": {},
          "output_type": "execute_result"
        }
      ],
      "source": [
        "filmes = ['Guerra nas Estrelas', 'O Império Contra-Ataca', 'O Retorno de Jedi']\n",
        "anos = ['Episódio 4', 'Episódio 5', 'Episódio 6']\n",
        "\n",
        "pd.Series(data=filmes, index=anos)"
      ]
    },
    {
      "cell_type": "code",
      "execution_count": null,
      "metadata": {
        "colab": {
          "base_uri": "https://localhost:8080/"
        },
        "id": "K0VYGhvT3mCG",
        "outputId": "c689aac1-7aaa-4f69-eec6-3c973b59cd76"
      },
      "outputs": [
        {
          "name": "stdout",
          "output_type": "stream",
          "text": [
            "object\n",
            "int64\n",
            "float64\n"
          ]
        }
      ],
      "source": [
        "s1 = pd.Series(['Python', 'Pandas', 'Pentest'])\n",
        "s2 = pd.Series([1, 2, 3])\n",
        "s3 = pd.Series([3.10, 1.4, 2.0])\n",
        "\n",
        "print(s1.dtype)\n",
        "print(s2.dtype)\n",
        "print(s3.dtype)"
      ]
    },
    {
      "cell_type": "code",
      "execution_count": null,
      "metadata": {
        "colab": {
          "base_uri": "https://localhost:8080/",
          "height": 143
        },
        "id": "7-ZLCsjy7jmS",
        "outputId": "6c3a08cf-d65d-484b-aea7-85f5f9957a04"
      },
      "outputs": [
        {
          "data": {
            "text/html": [
              "\n",
              "  <div id=\"df-7c364793-77a0-4b3e-b71c-732813b7e803\">\n",
              "    <div class=\"colab-df-container\">\n",
              "      <div>\n",
              "<style scoped>\n",
              "    .dataframe tbody tr th:only-of-type {\n",
              "        vertical-align: middle;\n",
              "    }\n",
              "\n",
              "    .dataframe tbody tr th {\n",
              "        vertical-align: top;\n",
              "    }\n",
              "\n",
              "    .dataframe thead th {\n",
              "        text-align: right;\n",
              "    }\n",
              "</style>\n",
              "<table border=\"1\" class=\"dataframe\">\n",
              "  <thead>\n",
              "    <tr style=\"text-align: right;\">\n",
              "      <th></th>\n",
              "      <th>Filmes</th>\n",
              "      <th>Ano de Lançamento</th>\n",
              "    </tr>\n",
              "  </thead>\n",
              "  <tbody>\n",
              "    <tr>\n",
              "      <th>Episódio 4</th>\n",
              "      <td>Guerra nas Estrelas</td>\n",
              "      <td>1977</td>\n",
              "    </tr>\n",
              "    <tr>\n",
              "      <th>Episódio 5</th>\n",
              "      <td>O Império Contra-Ataca</td>\n",
              "      <td>1980</td>\n",
              "    </tr>\n",
              "    <tr>\n",
              "      <th>Episódio 6</th>\n",
              "      <td>O Retorno de Jedi</td>\n",
              "      <td>1983</td>\n",
              "    </tr>\n",
              "  </tbody>\n",
              "</table>\n",
              "</div>\n",
              "      <button class=\"colab-df-convert\" onclick=\"convertToInteractive('df-7c364793-77a0-4b3e-b71c-732813b7e803')\"\n",
              "              title=\"Convert this dataframe to an interactive table.\"\n",
              "              style=\"display:none;\">\n",
              "        \n",
              "  <svg xmlns=\"http://www.w3.org/2000/svg\" height=\"24px\"viewBox=\"0 0 24 24\"\n",
              "       width=\"24px\">\n",
              "    <path d=\"M0 0h24v24H0V0z\" fill=\"none\"/>\n",
              "    <path d=\"M18.56 5.44l.94 2.06.94-2.06 2.06-.94-2.06-.94-.94-2.06-.94 2.06-2.06.94zm-11 1L8.5 8.5l.94-2.06 2.06-.94-2.06-.94L8.5 2.5l-.94 2.06-2.06.94zm10 10l.94 2.06.94-2.06 2.06-.94-2.06-.94-.94-2.06-.94 2.06-2.06.94z\"/><path d=\"M17.41 7.96l-1.37-1.37c-.4-.4-.92-.59-1.43-.59-.52 0-1.04.2-1.43.59L10.3 9.45l-7.72 7.72c-.78.78-.78 2.05 0 2.83L4 21.41c.39.39.9.59 1.41.59.51 0 1.02-.2 1.41-.59l7.78-7.78 2.81-2.81c.8-.78.8-2.07 0-2.86zM5.41 20L4 18.59l7.72-7.72 1.47 1.35L5.41 20z\"/>\n",
              "  </svg>\n",
              "      </button>\n",
              "      \n",
              "  <style>\n",
              "    .colab-df-container {\n",
              "      display:flex;\n",
              "      flex-wrap:wrap;\n",
              "      gap: 12px;\n",
              "    }\n",
              "\n",
              "    .colab-df-convert {\n",
              "      background-color: #E8F0FE;\n",
              "      border: none;\n",
              "      border-radius: 50%;\n",
              "      cursor: pointer;\n",
              "      display: none;\n",
              "      fill: #1967D2;\n",
              "      height: 32px;\n",
              "      padding: 0 0 0 0;\n",
              "      width: 32px;\n",
              "    }\n",
              "\n",
              "    .colab-df-convert:hover {\n",
              "      background-color: #E2EBFA;\n",
              "      box-shadow: 0px 1px 2px rgba(60, 64, 67, 0.3), 0px 1px 3px 1px rgba(60, 64, 67, 0.15);\n",
              "      fill: #174EA6;\n",
              "    }\n",
              "\n",
              "    [theme=dark] .colab-df-convert {\n",
              "      background-color: #3B4455;\n",
              "      fill: #D2E3FC;\n",
              "    }\n",
              "\n",
              "    [theme=dark] .colab-df-convert:hover {\n",
              "      background-color: #434B5C;\n",
              "      box-shadow: 0px 1px 3px 1px rgba(0, 0, 0, 0.15);\n",
              "      filter: drop-shadow(0px 1px 2px rgba(0, 0, 0, 0.3));\n",
              "      fill: #FFFFFF;\n",
              "    }\n",
              "  </style>\n",
              "\n",
              "      <script>\n",
              "        const buttonEl =\n",
              "          document.querySelector('#df-7c364793-77a0-4b3e-b71c-732813b7e803 button.colab-df-convert');\n",
              "        buttonEl.style.display =\n",
              "          google.colab.kernel.accessAllowed ? 'block' : 'none';\n",
              "\n",
              "        async function convertToInteractive(key) {\n",
              "          const element = document.querySelector('#df-7c364793-77a0-4b3e-b71c-732813b7e803');\n",
              "          const dataTable =\n",
              "            await google.colab.kernel.invokeFunction('convertToInteractive',\n",
              "                                                     [key], {});\n",
              "          if (!dataTable) return;\n",
              "\n",
              "          const docLinkHtml = 'Like what you see? Visit the ' +\n",
              "            '<a target=\"_blank\" href=https://colab.research.google.com/notebooks/data_table.ipynb>data table notebook</a>'\n",
              "            + ' to learn more about interactive tables.';\n",
              "          element.innerHTML = '';\n",
              "          dataTable['output_type'] = 'display_data';\n",
              "          await google.colab.output.renderOutput(dataTable, element);\n",
              "          const docLink = document.createElement('div');\n",
              "          docLink.innerHTML = docLinkHtml;\n",
              "          element.appendChild(docLink);\n",
              "        }\n",
              "      </script>\n",
              "    </div>\n",
              "  </div>\n",
              "  "
            ],
            "text/plain": [
              "                            Filmes  Ano de Lançamento\n",
              "Episódio 4     Guerra nas Estrelas               1977\n",
              "Episódio 5  O Império Contra-Ataca               1980\n",
              "Episódio 6       O Retorno de Jedi               1983"
            ]
          },
          "execution_count": 16,
          "metadata": {},
          "output_type": "execute_result"
        }
      ],
      "source": [
        "df = pd.DataFrame(\n",
        "    #registro da minha tabela\n",
        "    data=[\n",
        "          ['Guerra nas Estrelas', 1977],\n",
        "          ['O Império Contra-Ataca', 1980],\n",
        "          ['O Retorno de Jedi', 1983]\n",
        "    ],\n",
        "    #indice = id = primeira linha da tabela\n",
        "    index=['Episódio 4', 'Episódio 5', 'Episódio 6'],\n",
        "    #titulo das colunas\n",
        "    columns=['Filmes', 'Ano de Lançamento']\n",
        ")\n",
        "\n",
        "df"
      ]
    },
    {
      "cell_type": "code",
      "execution_count": null,
      "metadata": {
        "id": "6mSkAriKCSy1"
      },
      "outputs": [],
      "source": [
        "df.to_csv('filmes')"
      ]
    },
    {
      "cell_type": "markdown",
      "metadata": {
        "id": "DCflPgYO9pA0"
      },
      "source": [
        "#COVID - 19"
      ]
    },
    {
      "cell_type": "code",
      "execution_count": null,
      "metadata": {
        "id": "WJScDrLh90PR"
      },
      "outputs": [],
      "source": [
        "import pandas as pd\n",
        "\n",
        "covid = pd.read_csv(\"/content/covid.csv\" , sep = ';')\n",
        "display(covid)"
      ]
    },
    {
      "cell_type": "code",
      "execution_count": null,
      "metadata": {
        "id": "8DZKq8ldAiRg"
      },
      "outputs": [],
      "source": [
        "#ver as linhas\n",
        "covid[1000:1005]"
      ]
    },
    {
      "cell_type": "code",
      "execution_count": null,
      "metadata": {
        "id": "hGFdOiK5BGaQ"
      },
      "outputs": [],
      "source": [
        "#Excluir os dados faltantes  | NAN | dropna\n",
        "covid_limpo = covid.dropna()\n",
        "covid_limpo.head()\n",
        "display(covid_limpo)"
      ]
    },
    {
      "cell_type": "code",
      "execution_count": null,
      "metadata": {
        "id": "vtHQcAC2CG9k"
      },
      "outputs": [],
      "source": [
        "#exportar(baixar) o arquivo com o novo nome | baixar os dados tratados\n",
        "covid_limpo.to_csv(\"covid_tratados.csv\")"
      ]
    },
    {
      "cell_type": "code",
      "execution_count": null,
      "metadata": {
        "colab": {
          "base_uri": "https://localhost:8080/"
        },
        "id": "qTmsKPhCDcbh",
        "outputId": "c7123d9c-a3c1-49ef-af16-dbe4c4bc24c7"
      },
      "outputs": [
        {
          "data": {
            "text/plain": [
              "Index(['regiao', 'estado', 'municipio', 'coduf', 'codmun', 'codRegiaoSaude',\n",
              "       'nomeRegiaoSaude', 'data', 'semanaEpi', 'populacaoTCU2019',\n",
              "       'casosAcumulado', 'casosNovos', 'obitosAcumulado', 'obitosNovos',\n",
              "       'Recuperadosnovos', 'emAcompanhamentoNovos', 'interior/metropolitana'],\n",
              "      dtype='object')"
            ]
          },
          "execution_count": 25,
          "metadata": {},
          "output_type": "execute_result"
        }
      ],
      "source": [
        "#nome das colunas /  ver o nome das colunas\n",
        "covid.columns"
      ]
    },
    {
      "cell_type": "code",
      "execution_count": null,
      "metadata": {
        "id": "m5js_Sx0D48A"
      },
      "outputs": [],
      "source": [
        "#descrever os dados\n",
        "covid.describe()"
      ]
    },
    {
      "cell_type": "code",
      "execution_count": null,
      "metadata": {
        "id": "VjGxjWAOEVhP"
      },
      "outputs": [],
      "source": [
        "covid.T"
      ]
    },
    {
      "cell_type": "code",
      "execution_count": null,
      "metadata": {
        "id": "8gqD9JY0FXpU"
      },
      "outputs": [],
      "source": [
        "#Seleção pelo o nome das colunas / loc linha 100 até 200\n",
        "# [LINHAS INICIO : LINHA FIM ], [COLUNA OU COLUNAS]\n",
        "\n",
        "covid.loc[2000:2005 , [\"estado\",\"obitosNovos\", \"data\"]]"
      ]
    },
    {
      "cell_type": "code",
      "execution_count": null,
      "metadata": {
        "id": "J9AhmEkIGsoy"
      },
      "outputs": [],
      "source": [
        "#Selecionar linhas iloc\n",
        "covid.iloc[[1000]]"
      ]
    },
    {
      "cell_type": "code",
      "execution_count": null,
      "metadata": {
        "id": "TrE6MBgdIKu6"
      },
      "outputs": [],
      "source": [
        "#iloc pode ser passado por uma matriz\n",
        "#aqui passamos o número da coluna\n",
        "#covid.iloc[linhas inicio:fim, número da coluna ou os números das colunas]\n",
        "\n",
        "covid.iloc[150:155,0:3]"
      ]
    },
    {
      "cell_type": "code",
      "execution_count": null,
      "metadata": {
        "id": "3Zn3wlaBJZ2f"
      },
      "outputs": [],
      "source": [
        "#Selecionando o código do estado\n",
        "#atividade pesquise pelo o codifgo da uf\n",
        "covidCeara = covid[covid['coduf'] == 23]\n",
        "covidCeara"
      ]
    },
    {
      "cell_type": "code",
      "execution_count": null,
      "metadata": {
        "id": "EWRyaTWBKxSc"
      },
      "outputs": [],
      "source": [
        "# mean - a média dos novos casos\n",
        "covid['obitosAcumulado'].mean()"
      ]
    },
    {
      "cell_type": "code",
      "execution_count": null,
      "metadata": {
        "id": "6t8dJ3Q-LQNy"
      },
      "outputs": [],
      "source": [
        "#recuperados\n",
        "covid['Recuperadosnovos'].mean()"
      ]
    },
    {
      "cell_type": "code",
      "execution_count": null,
      "metadata": {
        "id": "gCXJJq-YLb-C"
      },
      "outputs": [],
      "source": [
        "#entradas novas por estado\n",
        "covid['estado'].value_counts()"
      ]
    },
    {
      "cell_type": "code",
      "execution_count": null,
      "metadata": {
        "id": "Skq8juWGMLVX"
      },
      "outputs": [],
      "source": [
        "#entradas novas por estado, percetual\n",
        "covid['estado'].value_counts(normalize = True)"
      ]
    },
    {
      "cell_type": "code",
      "execution_count": null,
      "metadata": {
        "id": "om6Ud_2ZMlAG"
      },
      "outputs": [],
      "source": [
        "# Ordenar um serie = Coluna\n",
        "covid['estado'].sort_values(ascending = True)"
      ]
    },
    {
      "cell_type": "code",
      "execution_count": null,
      "metadata": {
        "id": "dyykxhw8NGOd"
      },
      "outputs": [],
      "source": [
        "#Ordenar um data frame = tabela inteira\n",
        "covid.sort_values(by = 'populacaoTCU2019',ascending = True)"
      ]
    },
    {
      "cell_type": "markdown",
      "metadata": {
        "id": "F05EoC-ZOrBY"
      },
      "source": [
        "## GRÁFICOS"
      ]
    },
    {
      "cell_type": "code",
      "execution_count": null,
      "metadata": {
        "id": "HaMvRIGzOC1Z"
      },
      "outputs": [],
      "source": [
        "#Exibir uma serie com o gráfico de uma linha\n",
        "covid['estado'].value_counts().plot()"
      ]
    },
    {
      "cell_type": "code",
      "execution_count": null,
      "metadata": {
        "id": "zmLnoVdgPSml"
      },
      "outputs": [],
      "source": [
        "#exibir uma serie com graficos de coluna -  histograma\n",
        "covid['coduf'].value_counts().plot(kind = 'hist')"
      ]
    },
    {
      "cell_type": "code",
      "execution_count": null,
      "metadata": {
        "id": "CpLpQ1ptPlA9"
      },
      "outputs": [],
      "source": [
        "#exibir uma serie com graficos de coluna -  barra\n",
        "covid['estado'].value_counts().plot(kind = 'bar')"
      ]
    },
    {
      "cell_type": "code",
      "execution_count": null,
      "metadata": {
        "id": "7WaBXD75QfhE"
      },
      "outputs": [],
      "source": [
        "covid['estado'].value_counts().plot(kind= 'pie')"
      ]
    }
  ],
  "metadata": {
    "colab": {
      "provenance": []
    },
    "kernelspec": {
      "display_name": "Python 3",
      "name": "python3"
    },
    "language_info": {
      "name": "python"
    }
  },
  "nbformat": 4,
  "nbformat_minor": 0
}
