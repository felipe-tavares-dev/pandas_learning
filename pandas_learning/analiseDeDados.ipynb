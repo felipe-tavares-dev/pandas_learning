{
  "nbformat": 4,
  "nbformat_minor": 0,
  "metadata": {
    "colab": {
      "provenance": []
    },
    "kernelspec": {
      "name": "python3",
      "display_name": "Python 3"
    },
    "language_info": {
      "name": "python"
    }
  },
  "cells": [
    {
      "cell_type": "markdown",
      "source": [
        "# Agrupamento e Slicing"
      ],
      "metadata": {
        "id": "KSU82LB5Hn_f"
      }
    },
    {
      "cell_type": "code",
      "execution_count": null,
      "metadata": {
        "id": "tzi-EgTfHeOU"
      },
      "outputs": [],
      "source": [
        "import pandas as pd"
      ]
    },
    {
      "cell_type": "code",
      "source": [
        "# Configuração para que os números fiquem com 2 casas decimais\n",
        "pd.options.display.float_format = '{:,.2f}'.format"
      ],
      "metadata": {
        "id": "ELmqlAHRHq-n"
      },
      "execution_count": null,
      "outputs": []
    },
    {
      "cell_type": "code",
      "source": [
        "dataset = r'https://raw.githubusercontent.com/rafaelpuyau/infinity_school/main/ds/datasets/atividade_casa.csv'\n",
        "df = pd.read_csv(dataset)\n",
        "df"
      ],
      "metadata": {
        "id": "K-7KKl0GHubX"
      },
      "execution_count": null,
      "outputs": []
    },
    {
      "cell_type": "code",
      "source": [
        "df.sample(2)"
      ],
      "metadata": {
        "id": "3xC6WUsuKPq5"
      },
      "execution_count": null,
      "outputs": []
    },
    {
      "cell_type": "markdown",
      "source": [
        "\n",
        "## Indexação no Pandas\n",
        "\n"
      ],
      "metadata": {
        "id": "dOLsjt-BLdjk"
      }
    },
    {
      "cell_type": "markdown",
      "source": [
        "### Seleção baseado em índice\n",
        "\n",
        "\n",
        "A indexação do Pandas funciona com dois paradigmas. A primeira é a <u>seleção baseada em índice</u>: selecionar dados com base em sua posição numérica nos dados. O __iloc__ segue este paradigma.\n",
        "\n",
        "Para selecionar a primeira linha de dados em um _DataFrame_, faremos uso do iloc passando o index posicional.\n",
        "\n",
        "__SINTAXE__\n",
        "\n",
        "`df.iloc[0]`"
      ],
      "metadata": {
        "id": "PwOfscQwLfsD"
      }
    },
    {
      "cell_type": "code",
      "source": [
        "df.iloc[[0]]"
      ],
      "metadata": {
        "id": "psixhPogL8vB"
      },
      "execution_count": null,
      "outputs": []
    },
    {
      "cell_type": "code",
      "source": [
        "#DataFrame = tabela = serie\n",
        "df.iloc[0].to_frame().transpose()"
      ],
      "metadata": {
        "id": "oL5BKMxEL_Mq"
      },
      "execution_count": null,
      "outputs": []
    },
    {
      "cell_type": "markdown",
      "source": [
        "Tanto __loc__ quanto __iloc__ trabalham com _linha-primeiro_ e _coluna-segundo_.\n",
        "\n",
        "Isto é o oposto do que fazemos no Python nativo, que é a _coluna-primeiro_ e  a _linha-segundo_.\n",
        "\n",
        "Isto significa que é um pouco mais fácil recuperar linhas e um pouco mais difícil recuperar colunas. Para obter uma coluna com __iloc__, devemos escrever assim: `df.iloc[:, 0]`\n",
        "\n",
        "Por si só, o seletor __:__ , que também vem do Python nativo, significa __tudo__.\n",
        "\n",
        "Quando combinado com outros seletores, no entanto, pode ser usado para indicar um intervalo de valores.\n",
        "\n",
        "Por exemplo, para selecionar a coluna da _Data da Venda_ apenas da primeira, segunda e terceira linha, devemos seguir a sintaxe `df.iloc[:3, 0]`, mas, também, podemos passar uma lista como `df.iloc[[0, 1, 2], 0]`.\n",
        "\n",
        "Podemos passar um intervalo, por exemplo: `df.iloc[1:3, 0]`\n",
        "\n",
        "Por fim, vale saber que números negativos podem ser usados na seleção. Isso começará a contar para frente a partir do final dos valores.\n",
        "\n",
        "Então, por exemplo, aqui estão os últimos cinco elementos do conjunto de dados - `df.iloc[-5:]`\n"
      ],
      "metadata": {
        "id": "NnQ3zpx8MpNw"
      }
    },
    {
      "cell_type": "code",
      "source": [
        "#df.iloc[LinhaInicial:LinhaFinal, ColunaInicial:ColunaFinal]\n",
        "#df.iloc[LinhaInicial ATÉ LinhaFinal, ColunaInicial ATÉ ColunaFinal]\n",
        "df.iloc[:, 0]"
      ],
      "metadata": {
        "id": "1LaXwLUhNYEc"
      },
      "execution_count": null,
      "outputs": []
    },
    {
      "cell_type": "code",
      "source": [
        "#Verificar o nome das colunas do DataFrame\n",
        "df.columns"
      ],
      "metadata": {
        "id": "8xzcE54gNro8"
      },
      "execution_count": null,
      "outputs": []
    },
    {
      "cell_type": "code",
      "source": [
        "#df.iloc[LinhaInicial:LinhaFinal, ColunaInicial:ColunaFinal]\n",
        "df.iloc[:3, 2]"
      ],
      "metadata": {
        "id": "F8XTr1jxOYO0"
      },
      "execution_count": null,
      "outputs": []
    },
    {
      "cell_type": "code",
      "source": [
        "#df.iloc[[LinhaUm,LinhaDois, LinhaTres], ColunaInicial:ColunaFinal]\n",
        "df.iloc[[0, 1, 2], 6]"
      ],
      "metadata": {
        "id": "P64Ti2mwO0zZ"
      },
      "execution_count": null,
      "outputs": []
    },
    {
      "cell_type": "code",
      "source": [
        "#Valores negativos das linhas | Para exibir de baixo para cima\n",
        "df.iloc[-2:]"
      ],
      "metadata": {
        "id": "gmL21TosPNeI"
      },
      "execution_count": null,
      "outputs": []
    },
    {
      "cell_type": "markdown",
      "source": [
        "### Seleção baseada em rótulo"
      ],
      "metadata": {
        "id": "G5swKms2P-TA"
      }
    },
    {
      "cell_type": "markdown",
      "source": [
        "\n",
        "O segundo paradigma para seleção de atributos é o seguido pelo operador __loc__: _seleção baseada em rótulos_.\n",
        "\n",
        "Nesse paradigma, é o __valor__ do índice de dados, __não sua posição__, que importa.\n",
        "\n",
        "Por exemplo, para obter a primeira entrada do _dataset_, agora faríamos o seguinte: `df.loc[0, 'coluna']`\n",
        "\n",
        "__iloc__ é conceitualmente mais simples que __loc__ porque ignora os índices do conjunto de dados.\n",
        "\n",
        "Quando usamos __iloc__, tratamos o conjunto de dados como uma grande matriz (uma lista de listas), na qual temos que indexar por posição.\n",
        "\n",
        "__loc__, por outro lado, usa as informações dos índices para fazer seu trabalho. Como seu conjunto de dados geralmente tem índices significativos, geralmente é mais fácil fazer as coisas usando __loc__.\n",
        "\n",
        "Por exemplo, aqui está uma operação que é muito mais fácil usando __loc__: `df.loc[:, ['coluna', 'coluna', 'coluna']]`"
      ],
      "metadata": {
        "id": "4GSKIVzEQ5yc"
      }
    },
    {
      "cell_type": "code",
      "source": [
        "df.loc[0, 'Idade']"
      ],
      "metadata": {
        "colab": {
          "base_uri": "https://localhost:8080/"
        },
        "id": "oHxicTMZQ7Nb",
        "outputId": "a86208c1-52ff-482f-b062-b16d4b04fd7f"
      },
      "execution_count": null,
      "outputs": [
        {
          "output_type": "execute_result",
          "data": {
            "text/plain": [
              "39"
            ]
          },
          "metadata": {},
          "execution_count": 27
        }
      ]
    },
    {
      "cell_type": "code",
      "source": [
        "df.columns"
      ],
      "metadata": {
        "id": "jdXOWToLRk2Z"
      },
      "execution_count": null,
      "outputs": []
    },
    {
      "cell_type": "code",
      "source": [
        "#df.loc[TodasASLinhas, ['Cor', 'Produto', 'Valor']]\n",
        "df.loc[:, ['Produto' ,'Valor']]"
      ],
      "metadata": {
        "id": "-feTwJWDRITz"
      },
      "execution_count": null,
      "outputs": []
    },
    {
      "cell_type": "markdown",
      "source": [
        "### Escolhendo entre loc e iloc"
      ],
      "metadata": {
        "id": "0wGWu_cQSI5o"
      }
    },
    {
      "cell_type": "markdown",
      "source": [
        "Ao escolher ou fazer a transição entre __loc__ e __iloc__, há uma \"_pegadinha_\" que vale a pena ter em mente, que é que _os dois métodos usam esquemas de indexação ligeiramente diferentes_.\n",
        "\n",
        "__iloc__ usa o esquema de indexação _stdlib_ do Python, onde o primeiro elemento do intervalo é incluído e o último excluído.\n",
        "\n",
        "Portanto, 0:10 selecionará as entradas 0,...,9. __loc__, enquanto isso, indexa inclusive. Portanto, 0:10 selecionará as entradas 0,...,10.\n",
        "\n",
        "Por que a mudança? Lembre-se que loc pode indexar qualquer tipo de stdlib: strings, por exemplo.\n",
        "\n",
        "Isso é particularmente confuso quando o índice _DataFrame_ é uma lista numérica simples, por exemplo. 0,...,1000.\n",
        "\n",
        "Neste caso `df.iloc[0:1000]` retornará 1000 entradas, enquanto `df.loc[0:1000]` retornará 1001 delas!\n",
        "\n",
        "Para obter 1000 elementos usando loc, você precisará descer um e pedir `df.loc[0:999]`.\n",
        "\n",
        "Caso contrário, a semântica do uso de loc é a mesma de iloc."
      ],
      "metadata": {
        "id": "WkBque7SSKTf"
      }
    },
    {
      "cell_type": "code",
      "source": [
        "#df.iloc[0:10] = 10\n",
        "#df.loc[0:10] = 11\n",
        "\n",
        "print(f'iloc: {len(df.iloc[0:10])} -----> loc: {len(df.loc[0:10])}')"
      ],
      "metadata": {
        "colab": {
          "base_uri": "https://localhost:8080/"
        },
        "id": "UoLkMp-SSShH",
        "outputId": "91fc1719-9935-4c2a-f698-2ace4606b48b"
      },
      "execution_count": null,
      "outputs": [
        {
          "output_type": "stream",
          "name": "stdout",
          "text": [
            "iloc: 10 -----> loc: 11\n"
          ]
        }
      ]
    },
    {
      "cell_type": "markdown",
      "source": [
        "## Manipulando o index"
      ],
      "metadata": {
        "id": "Qnsaa-X9TOwU"
      }
    },
    {
      "cell_type": "markdown",
      "source": [
        "<u>A seleção baseada em rótulos</u> tem seu poder nos rótulos do índice.\n",
        "\n",
        "> Criticamente, o índice que usamos não é imutável. Podemos manipular o índice da maneira que acharmos melhor.\n",
        "\n",
        "O método `set_index()` pode ser usado para fazer o trabalho.\n",
        "\n",
        "__SINTAXE__\n",
        "\n",
        "`df.set_index('coluna')`\n",
        "\n",
        "Isso é útil se você puder criar um índice para o conjunto de dados que seja melhor que o atual."
      ],
      "metadata": {
        "id": "uiQOJSnDTPA2"
      }
    },
    {
      "cell_type": "code",
      "source": [
        "df.set_index('Data da Venda')[:10]"
      ],
      "metadata": {
        "id": "O_Se7z9kTq6a"
      },
      "execution_count": null,
      "outputs": []
    },
    {
      "cell_type": "markdown",
      "source": [
        "## Seleção condicional"
      ],
      "metadata": {
        "id": "rufkVwJHUspx"
      }
    },
    {
      "cell_type": "markdown",
      "source": [
        "Até agora temos indexado vários passos de dados, usando propriedades estruturais do próprio _DataFrame_.\n",
        "\n",
        "Para fazer coisas __interessantes__ com os dados, no entanto, muitas vezes precisamos fazer perguntas com base nas condições.\n",
        "\n",
        "Por exemplo, suponha que queiramos saber as pessoas com menos de 30 anos que realizaram um compra.\n",
        "\n",
        "Podemos começar verificando a coluna idade onde o valor é menos que 30.\n",
        "\n",
        "Essa operação produziu uma série de booleanos _True_/_False_ com base no país de cada registro.\n",
        "\n",
        "Este resultado pode ser usado dentro de __loc__ para selecionar os dados relevantes: `df.loc[condição]`"
      ],
      "metadata": {
        "id": "cj7rdHH5UtV4"
      }
    },
    {
      "cell_type": "code",
      "source": [
        "df['Idade'] < 30"
      ],
      "metadata": {
        "id": "y2EnSxvOUyr-"
      },
      "execution_count": null,
      "outputs": []
    },
    {
      "cell_type": "code",
      "source": [
        "menor_30 = df['Idade'] < 30\n",
        "df.loc[menor_30]"
      ],
      "metadata": {
        "id": "7lLWAcGEVBB3"
      },
      "execution_count": null,
      "outputs": []
    },
    {
      "cell_type": "markdown",
      "source": [
        "Este _DataFrame_ tem aproximadamente 37.817 linhas. O original tinha aproximadamente 100_000. Isso significa que cerca de 37.8% dos clientes tem idade inferior a 30 anos.\n",
        "\n",
        "Também queríamos saber destes clientes quais são do sexo feminino.\n",
        "\n",
        "Podemos usar o e comercial ( & ) para juntar as duas perguntas: `df.loc[(condição_1) & (condição_2)]`\n",
        "\n",
        "A depender da pergunta ou do que queremos saber, podemos usar o pipe ( | ) para conseguir obter o resultado. Lembre-se que o & refere-se ao operador lógico __and__ e | ao operador lógico __or__ do python.\n",
        "\n",
        "`df.loc[(condição_1) | (condição_2)]`"
      ],
      "metadata": {
        "id": "WNg3cTFrXF6L"
      }
    },
    {
      "cell_type": "code",
      "source": [
        "menor_30 = df['Idade'] < 30\n",
        "sexo_feminino = df['Sexo'] == 'Feminino'\n",
        "\n",
        "# df.loc[(df['Idade'] < 30) & (df['Sexo'] == 'Feminino')]\n",
        "df.loc[menor_30 & sexo_feminino]"
      ],
      "metadata": {
        "id": "q6qQEu6uXQ-x"
      },
      "execution_count": null,
      "outputs": []
    },
    {
      "cell_type": "code",
      "source": [
        "#FAÇA UMA PESQUISA DE TODAS AS MULHERES ENTRE 30 ATÉ 45 ANOS\n",
        "maiorIgual_30 = df['Idade'] >= 30\n",
        "sexo_feminino = df['Sexo'] == 'Feminino'\n",
        "igual45 = df['Idade'] <= 45\n",
        "\n",
        "# df.loc[(df['Idade'] < 30) & (df['Sexo'] == 'Feminino')]\n",
        "df.loc[maiorIgual_30 & sexo_feminino & igual45]"
      ],
      "metadata": {
        "id": "kireyGv7ZD1U"
      },
      "execution_count": null,
      "outputs": []
    },
    {
      "cell_type": "markdown",
      "source": [
        "O Pandas vem com alguns seletores condicionais embutidos, dois dos quais destacaremos aqui.\n",
        "\n",
        "O primeiro __isin__ permite selecionar dados cujo valor \"estão em\" uma lista de valores.\n",
        "\n",
        "Por exemplo, veja como podemos usá-lo para selecionar clientes com as idade de 19 e 29 anos:\n",
        "\n",
        "`df.loc[df['coluna'].isin(['valor_1', 'valor_2'])]`\n",
        "\n",
        "O segundo é __isnull__ (e seu companheiro __notnull__). Esses métodos permitem destacar valores que estão (ou não) vazios ( NaN ).\n",
        "\n",
        "`df.loc[df['coluna'].notnull()]`"
      ],
      "metadata": {
        "id": "Cqw51W7BbA1C"
      }
    },
    {
      "cell_type": "code",
      "source": [
        "#Valores exatos\n",
        "df.loc[df['Idade'].isin([19, 29, 39, 49])]"
      ],
      "metadata": {
        "id": "3uJPvaEFbGkC"
      },
      "execution_count": null,
      "outputs": []
    },
    {
      "cell_type": "code",
      "source": [
        "#Exibir os campos nulos = NaN\n",
        "df.loc[df['Idade'].isnull()]"
      ],
      "metadata": {
        "id": "tp648eYYb8cc"
      },
      "execution_count": null,
      "outputs": []
    },
    {
      "cell_type": "markdown",
      "source": [
        "## Agrupamentos"
      ],
      "metadata": {
        "id": "_lQBF24ScunQ"
      }
    },
    {
      "cell_type": "markdown",
      "source": [
        "Os mapas nos permitem transformar dados em um _DataFrame_ ou _Series_ um valor por vez para uma coluna inteira.\n",
        "\n",
        "No entanto, muitas vezes queremos agrupar nossos dados e, em seguida, fazer algo específico para o grupo em que os dados estão.\n",
        "\n",
        "Como você aprenderá, fazemos isso com o método `groupby()`.\n",
        "\n",
        "Também abordaremos alguns tópicos adicionais, como formas mais complexas de indexar seus _DataFrames_, além de como classificar seus dados."
      ],
      "metadata": {
        "id": "Qf4PvpXPc5eI"
      }
    },
    {
      "cell_type": "markdown",
      "source": [
        "Uma função que já vimos na aula passada e é muito útil, é o método `value_counts()`.\n",
        "\n",
        "Podemos replicar o que `value_counts()` faz fazendo o seguinte: `df.groupby('coluna')['coluna'].count()`\n",
        "\n",
        "> __*value_counts() é apenas um atalho para esta operação groupby()*__\n",
        "\n",
        "Podemos usar qualquer uma das funções de resumo que usamos antes com esses dados.\n",
        "\n",
        "Por exemplo, para obter o vinho mais barato em cada categoria de valor de pontos, podemos fazer o seguinte:\n",
        "\n",
        "`df.groupby('coluna')['coluna'].min()`\n",
        "\n",
        "Você pode pensar em cada grupo que geramos como sendo uma fatia do nosso _DataFrame_ contendo apenas dados com valores correspondentes.\n",
        "\n",
        "Este _DataFrame_ é acessível a nós diretamente usando o método `apply()`, e podemos manipular os dados da maneira que acharmos melhor.\n",
        "\n",
        "Por exemplo, aqui está uma maneira de selecionar o nome do primeiro vinho revisado de cada vinícola no conjunto de dados:\n",
        "\n",
        "`df.groupby('coluna').apply(lambda param: param.metodo())`\n",
        "\n",
        "Para um controle ainda mais refinado, você também pode agrupar por mais de uma coluna.\n",
        "\n",
        "Por exemplo, veja como escolheríamos o melhor vinho por país e província:\n",
        "\n",
        "`df.groupby(['coluna_1', 'coluna_2']).apply(lambda param: param.metodo())`"
      ],
      "metadata": {
        "id": "dAew2QLKdY0O"
      }
    },
    {
      "cell_type": "code",
      "source": [
        "df['Sexo'].value_counts()"
      ],
      "metadata": {
        "id": "_QMt_Yc_dc0B"
      },
      "execution_count": null,
      "outputs": []
    },
    {
      "cell_type": "code",
      "source": [
        "df.groupby('Sexo')['Sexo'].count().sort_values(ascending=False)"
      ],
      "metadata": {
        "id": "KQaNEzySe5ay"
      },
      "execution_count": null,
      "outputs": []
    },
    {
      "cell_type": "markdown",
      "source": [
        "Outro método `groupby()` que podemos usar associado a ele e que vale a pena mencionar é o `agg()` que permite executar várias funções diferentes em seu _DataFrame_ simultaneamente.\n",
        "\n",
        "Por exemplo, podemos gerar um resumo estatístico simples do conjunto de dados da seguinte forma:\n",
        "\n",
        "`df.groupby('coluna')['coluna_2'].agg(['func_1', 'func_2', 'func_3'])`\n",
        "\n",
        "O uso efetivo de `groupby()` permitirá que você faça muitas coisas realmente poderosas com seu conjunto de dados."
      ],
      "metadata": {
        "id": "1PN1UHmLfjrQ"
      }
    },
    {
      "cell_type": "code",
      "source": [
        "df.groupby('Produto')['Valor'].agg(['min', 'max', 'sum'])"
      ],
      "metadata": {
        "id": "XsC6d_36fm0g"
      },
      "execution_count": null,
      "outputs": []
    },
    {
      "cell_type": "markdown",
      "source": [
        "Em todos os exemplos que vimos até agora, trabalhamos com objetos _DataFrame_ ou _Series_ com um índice de rótulo único.\n",
        "\n",
        "`groupby()` é um pouco diferente no fato de que, dependendo da operação que executamos, às vezes resultará no que é chamado de __multi-índice__.\n",
        "\n",
        "Um _índice múltiplo_ difere de um índice regular por ter _vários níveis_.\n",
        "\n",
        "Por exemplo: `df.groupby(['coluna_1', 'coluna_2])['coluna_3'].agg([func_1])`\n",
        "\n",
        "Multi-índices têm vários métodos para lidar com sua estrutura em camadas que estão ausentes para índices de nível único.\n",
        "\n",
        "Eles também exigem dois níveis de rótulos para recuperar um valor.\n",
        "\n",
        "Lidar com a saída de vários índices é uma \"_pegadinha_\" comum para usuários novos em __Pandas__.\n",
        "\n",
        "Os casos de uso para um _multi-índice_ são detalhados junto com as instruções sobre como usá-los na seção MultiIndex / Advanced Selection da documentação do __Pandas__.\n",
        "\n",
        "No entanto, em geral, o método multi-índice que você usará com mais frequência é aquele para converter de volta para um índice regular, o método `reset_index()`\n",
        "\n",
        "Ex: `df.reset_index()`"
      ],
      "metadata": {
        "id": "28JhvbTCgfrV"
      }
    },
    {
      "cell_type": "code",
      "source": [
        "df.groupby(['Produto', 'Cor'])['Valor'].agg(['sum', 'mean'])"
      ],
      "metadata": {
        "id": "Gt-94UQfgjCF"
      },
      "execution_count": null,
      "outputs": []
    },
    {
      "cell_type": "code",
      "source": [
        "df.groupby(['Produto', 'Cor'])['Valor'].agg(['min', 'max'])"
      ],
      "metadata": {
        "id": "B-_cEyNUhL2T"
      },
      "execution_count": null,
      "outputs": []
    },
    {
      "cell_type": "markdown",
      "source": [
        "## Hora de praticar!\n",
        "\n",
        "1. Quantos produtos tem o valor maior que R$100,00?\n",
        "\n",
        "2. Quantas saias abaixo de R$70,00 foram compradas\n",
        "\n",
        "3. Qual foi o faturamento total (em R$) de camisas laranjas\n",
        "\n",
        "4. Quantos clientes entre 30 e 40 anos (inclusive) compraram calça roxa?"
      ],
      "metadata": {
        "id": "B8kwwegWhlaK"
      }
    },
    {
      "cell_type": "code",
      "source": [
        "#1. Quantos produtos tem o valor maior que R$100,00?\n",
        "maior_100 = df.loc[df['Valor'] > 100]\n",
        "maior_100['Quantidade'].sum()"
      ],
      "metadata": {
        "colab": {
          "base_uri": "https://localhost:8080/"
        },
        "id": "VZZ08kJmiD5J",
        "outputId": "de898bc5-ed82-42a8-8b82-c75882c5997b"
      },
      "execution_count": null,
      "outputs": [
        {
          "output_type": "execute_result",
          "data": {
            "text/plain": [
              "155036"
            ]
          },
          "metadata": {},
          "execution_count": 59
        }
      ]
    },
    {
      "cell_type": "code",
      "source": [
        "#2. Quantas saias abaixo de R$70,00 foram compradas\n",
        "saias = df.loc[(df['Produto'] == 'Saia') & (df['Valor'] < 70)]\n",
        "saias['Quantidade'].sum()"
      ],
      "metadata": {
        "id": "kc8mujfgnH6Z"
      },
      "execution_count": null,
      "outputs": []
    },
    {
      "cell_type": "code",
      "source": [
        "#3. Qual foi o faturamento total (em R$) de camisas laranjas\n",
        "camisas_laranjas = df.loc[(df['Produto'] == 'Camisa') & (df['Cor'] == 'Laranja')]\n",
        "calculo = camisas_laranjas['Valor'] * camisas_laranjas['Quantidade']\n",
        "camisas_laranjas.insert(4, 'Sub-Total', calculo)\n",
        "f'R${camisas_laranjas[\"Sub-Total\"].sum():_.2f}'"
      ],
      "metadata": {
        "colab": {
          "base_uri": "https://localhost:8080/",
          "height": 35
        },
        "id": "fwjSHfnPp2LI",
        "outputId": "8214ed72-b549-4060-dd41-9778edf39c22"
      },
      "execution_count": null,
      "outputs": [
        {
          "output_type": "execute_result",
          "data": {
            "text/plain": [
              "'R$742_830.65'"
            ],
            "application/vnd.google.colaboratory.intrinsic+json": {
              "type": "string"
            }
          },
          "metadata": {},
          "execution_count": 61
        }
      ]
    },
    {
      "cell_type": "code",
      "source": [
        "#4. Quantos clientes entre 30 e 40 anos (inclusive)\n",
        "#compraram calça roxa?\n",
        "\n",
        "calca_roxa = df.loc[(df['Produto'] == 'Calça') & (df['Cor'] == 'Roxa')]\n",
        "calca_roxa_30_40 = calca_roxa.loc[(calca_roxa['Idade'] >= 30) & (calca_roxa['Idade'] <= 40)]\n",
        "calca_roxa_30_40.shape[0]"
      ],
      "metadata": {
        "colab": {
          "base_uri": "https://localhost:8080/"
        },
        "id": "OZ_Q5P_hp2jY",
        "outputId": "fd545cf7-c3b4-409a-dad1-972c92a28486"
      },
      "execution_count": null,
      "outputs": [
        {
          "output_type": "execute_result",
          "data": {
            "text/plain": [
              "838"
            ]
          },
          "metadata": {},
          "execution_count": 62
        }
      ]
    },
    {
      "cell_type": "code",
      "source": [
        "calca_roxa_30_40['Sexo'].count()"
      ],
      "metadata": {
        "colab": {
          "base_uri": "https://localhost:8080/"
        },
        "id": "7Gk2EhZaqjaI",
        "outputId": "de05c729-cf5b-4d70-df1f-a14822e83ca5"
      },
      "execution_count": null,
      "outputs": [
        {
          "output_type": "execute_result",
          "data": {
            "text/plain": [
              "838"
            ]
          },
          "metadata": {},
          "execution_count": 63
        }
      ]
    }
  ]
}